{
 "cells": [
  {
   "cell_type": "code",
   "execution_count": 1,
   "metadata": {},
   "outputs": [],
   "source": [
    "%load_ext autoreload\n",
    "%autoreload 2\n",
    "\n",
    "%matplotlib inline"
   ]
  },
  {
   "cell_type": "code",
   "execution_count": 2,
   "metadata": {},
   "outputs": [],
   "source": [
    "from pylite.test import *\n",
    "from pylite.utils import *\n",
    "from pylite.learner import *\n",
    "from pylite.Callbacks import *"
   ]
  },
  {
   "cell_type": "code",
   "execution_count": 3,
   "metadata": {},
   "outputs": [],
   "source": [
    "x_train,y_train,x_valid,y_valid = get_mnist_data()\n",
    "loss_func = F.cross_entropy\n",
    "def accuracy(out, yb): return (torch.argmax(out, dim=1)==yb).float().mean()\n",
    "bs = 512\n",
    "train_ds, valid_ds = get_ds(x_train,y_train,x_valid,y_valid)\n",
    "data = TabularDataBunch(*get_dls(train_ds, valid_ds, bs))"
   ]
  },
  {
   "cell_type": "code",
   "execution_count": 4,
   "metadata": {},
   "outputs": [],
   "source": [
    "learn = Learner(*get_model(data), loss_func, data, cb_funcs=[LR_Find, Recorder])"
   ]
  },
  {
   "cell_type": "code",
   "execution_count": 5,
   "metadata": {},
   "outputs": [
    {
     "name": "stdout",
     "output_type": "stream",
     "text": [
      "Exited here 96\n"
     ]
    }
   ],
   "source": [
    "learn.fit(2)"
   ]
  },
  {
   "cell_type": "code",
   "execution_count": 8,
   "metadata": {},
   "outputs": [
    {
     "data": {
      "image/png": "[encoded data removed]",
      "text/plain": [
       "<Figure size 432x288 with 1 Axes>"
      ]
     },
     "metadata": {
      "needs_background": "light"
     },
     "output_type": "display_data"
    }
   ],
   "source": [
    "learn.recorder.plot(skip_last=5)"
   ]
  },
  {
   "cell_type": "code",
   "execution_count": 7,
   "metadata": {},
   "outputs": [
    {
     "data": {
      "text/plain": [
       "[tensor(2.3057),\n",
       " tensor(2.3042),\n",
       " tensor(2.3147),\n",
       " tensor(2.3215),\n",
       " tensor(2.3048),\n",
       " tensor(2.3227),\n",
       " tensor(2.3051),\n",
       " tensor(2.3109),\n",
       " tensor(2.3156),\n",
       " tensor(2.3153),\n",
       " tensor(2.3162),\n",
       " tensor(2.3050),\n",
       " tensor(2.3175),\n",
       " tensor(2.3046),\n",
       " tensor(2.3020),\n",
       " tensor(2.3200),\n",
       " tensor(2.3153),\n",
       " tensor(2.3099),\n",
       " tensor(2.3150),\n",
       " tensor(2.3137),\n",
       " tensor(2.3097),\n",
       " tensor(2.3130),\n",
       " tensor(2.3151),\n",
       " tensor(2.3081),\n",
       " tensor(2.3113),\n",
       " tensor(2.3215),\n",
       " tensor(2.3100),\n",
       " tensor(2.3068),\n",
       " tensor(2.3000),\n",
       " tensor(2.3169),\n",
       " tensor(2.3147),\n",
       " tensor(2.3073),\n",
       " tensor(2.3050),\n",
       " tensor(2.3116),\n",
       " tensor(2.3030),\n",
       " tensor(2.3115),\n",
       " tensor(2.3219),\n",
       " tensor(2.3142),\n",
       " tensor(2.2964),\n",
       " tensor(2.3109),\n",
       " tensor(2.3053),\n",
       " tensor(2.3155),\n",
       " tensor(2.3135),\n",
       " tensor(2.3062),\n",
       " tensor(2.2976),\n",
       " tensor(2.3056),\n",
       " tensor(2.3058),\n",
       " tensor(2.2973),\n",
       " tensor(2.3100),\n",
       " tensor(2.2980),\n",
       " tensor(2.3109),\n",
       " tensor(2.3112),\n",
       " tensor(2.3156),\n",
       " tensor(2.3013),\n",
       " tensor(2.2990),\n",
       " tensor(2.3031),\n",
       " tensor(2.3071),\n",
       " tensor(2.2909),\n",
       " tensor(2.3012),\n",
       " tensor(2.2853),\n",
       " tensor(2.2883),\n",
       " tensor(2.2940),\n",
       " tensor(2.2816),\n",
       " tensor(2.2723),\n",
       " tensor(2.2871),\n",
       " tensor(2.2696),\n",
       " tensor(2.2616),\n",
       " tensor(2.2681),\n",
       " tensor(2.2355),\n",
       " tensor(2.2451),\n",
       " tensor(2.2319),\n",
       " tensor(2.2314),\n",
       " tensor(2.1885),\n",
       " tensor(2.1689),\n",
       " tensor(2.1582),\n",
       " tensor(2.1211),\n",
       " tensor(2.1048),\n",
       " tensor(2.0253),\n",
       " tensor(1.9823),\n",
       " tensor(1.9010),\n",
       " tensor(1.8048),\n",
       " tensor(1.6487),\n",
       " tensor(1.5244),\n",
       " tensor(1.3987),\n",
       " tensor(1.4273),\n",
       " tensor(1.7744),\n",
       " tensor(1.7802),\n",
       " tensor(2.4247),\n",
       " tensor(2.5273),\n",
       " tensor(3.1508),\n",
       " tensor(6.7313),\n",
       " tensor(4.0562),\n",
       " tensor(3.4328),\n",
       " tensor(2.2935),\n",
       " tensor(2.0012),\n",
       " tensor(2.8401),\n",
       " tensor(18.3731)]"
      ]
     },
     "execution_count": 7,
     "metadata": {},
     "output_type": "execute_result"
    }
   ],
   "source": [
    "learn.recorder.losses"
   ]
  },
  {
   "cell_type": "code",
   "execution_count": null,
   "metadata": {},
   "outputs": [],
   "source": []
  }
 ],
 "metadata": {
  "kernelspec": {
   "display_name": "Python 3",
   "language": "python",
   "name": "python3"
  },
  "language_info": {
   "codemirror_mode": {
    "name": "ipython",
    "version": 3
   },
   "file_extension": ".py",
   "mimetype": "text/x-python",
   "name": "python",
   "nbconvert_exporter": "python",
   "pygments_lexer": "ipython3",
   "version": "3.7.3"
  }
 },
 "nbformat": 4,
 "nbformat_minor": 2
}
