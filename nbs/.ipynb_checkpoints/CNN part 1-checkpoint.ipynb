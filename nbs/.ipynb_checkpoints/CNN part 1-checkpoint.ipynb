{
 "cells": [
  {
   "cell_type": "code",
   "execution_count": 1,
   "metadata": {},
   "outputs": [],
   "source": [
    "%load_ext autoreload\n",
    "%autoreload 2\n",
    "\n",
    "%matplotlib inline"
   ]
  },
  {
   "cell_type": "code",
   "execution_count": 2,
   "metadata": {},
   "outputs": [],
   "source": [
    "from pylite.test import *"
   ]
  },
  {
   "cell_type": "code",
   "execution_count": 3,
   "metadata": {},
   "outputs": [],
   "source": [
    "loss_func = F.cross_entropy\n",
    "def accuracy(out, yb): return (torch.argmax(out, dim=1)==yb).float().mean()\n",
    "\n",
    "nh,bs = 50,512"
   ]
  },
  {
   "cell_type": "code",
   "execution_count": 4,
   "metadata": {},
   "outputs": [],
   "source": [
    "x_train,y_train,x_valid,y_valid = get_mnist_data()\n",
    "x_train,x_valid = normalize_to(x_train,x_valid)\n",
    "\n",
    "train_ds, valid_ds = get_ds(x_train,y_train,x_valid,y_valid)\n",
    "data = TabularDataBunch(*get_dls(train_ds, valid_ds, bs))"
   ]
  },
  {
   "cell_type": "code",
   "execution_count": 5,
   "metadata": {},
   "outputs": [
    {
     "data": {
      "text/plain": [
       "(tensor(-6.2598e-06), tensor(1.))"
      ]
     },
     "execution_count": 5,
     "metadata": {},
     "output_type": "execute_result"
    }
   ],
   "source": [
    "x_train.mean(),x_train.std()"
   ]
  },
  {
   "cell_type": "code",
   "execution_count": 6,
   "metadata": {},
   "outputs": [],
   "source": [
    "\n",
    "def get_cnn_model(data):\n",
    "    return nn.Sequential(\n",
    "        Lambda(mnist_resize),\n",
    "        nn.Conv2d( 1, 8, 5, padding=2,stride=2), nn.ReLU(), #14\n",
    "        nn.Conv2d( 8,16, 3, padding=1,stride=2), nn.ReLU(), # 7\n",
    "        nn.Conv2d(16,32, 3, padding=1,stride=2), nn.ReLU(), # 4\n",
    "        nn.Conv2d(32,32, 3, padding=1,stride=2), nn.ReLU(), # 2\n",
    "        nn.AdaptiveAvgPool2d(1),\n",
    "        Lambda(flatten),\n",
    "        nn.Linear(32,data.c)\n",
    "    )"
   ]
  },
  {
   "cell_type": "code",
   "execution_count": 7,
   "metadata": {},
   "outputs": [],
   "source": [
    "model = get_cnn_model(data)"
   ]
  },
  {
   "cell_type": "code",
   "execution_count": 8,
   "metadata": {},
   "outputs": [
    {
     "data": {
      "text/plain": [
       "Sequential(\n",
       "  (0): Lambda()\n",
       "  (1): Conv2d(1, 8, kernel_size=(5, 5), stride=(2, 2), padding=(2, 2))\n",
       "  (2): ReLU()\n",
       "  (3): Conv2d(8, 16, kernel_size=(3, 3), stride=(2, 2), padding=(1, 1))\n",
       "  (4): ReLU()\n",
       "  (5): Conv2d(16, 32, kernel_size=(3, 3), stride=(2, 2), padding=(1, 1))\n",
       "  (6): ReLU()\n",
       "  (7): Conv2d(32, 32, kernel_size=(3, 3), stride=(2, 2), padding=(1, 1))\n",
       "  (8): ReLU()\n",
       "  (9): AdaptiveAvgPool2d(output_size=1)\n",
       "  (10): Lambda()\n",
       "  (11): Linear(in_features=32, out_features=10, bias=True)\n",
       ")"
      ]
     },
     "execution_count": 8,
     "metadata": {},
     "output_type": "execute_result"
    }
   ],
   "source": [
    "model"
   ]
  },
  {
   "cell_type": "code",
   "execution_count": 57,
   "metadata": {},
   "outputs": [],
   "source": [
    "cbfs = [Recorder, partial(AvgStatsCallback,accuracy)]"
   ]
  },
  {
   "cell_type": "code",
   "execution_count": 60,
   "metadata": {},
   "outputs": [],
   "source": [
    "opt = optim.SGD(model.parameters(), lr=0.4)\n",
    "learn = Learner(model, opt, loss_func, data, cb_funcs=cbfs)"
   ]
  },
  {
   "cell_type": "code",
   "execution_count": 11,
   "metadata": {},
   "outputs": [
    {
     "name": "stdout",
     "output_type": "stream",
     "text": [
      "train: [2.110848125, tensor(0.2551)]\n",
      "valid: [0.799717138671875, tensor(0.7429)]\n",
      "Wall time: 12.8 s\n"
     ]
    }
   ],
   "source": [
    "%time learn.fit(1)"
   ]
  },
  {
   "cell_type": "code",
   "execution_count": 12,
   "metadata": {},
   "outputs": [],
   "source": [
    "device = torch.device('cuda',0)"
   ]
  },
  {
   "cell_type": "code",
   "execution_count": 13,
   "metadata": {},
   "outputs": [
    {
     "data": {
      "text/plain": [
       "device(type='cuda', index=0)"
      ]
     },
     "execution_count": 13,
     "metadata": {},
     "output_type": "execute_result"
    }
   ],
   "source": [
    "device"
   ]
  },
  {
   "cell_type": "code",
   "execution_count": 14,
   "metadata": {},
   "outputs": [],
   "source": [
    "class CudaCallback(Callback):\n",
    "    def begin_fit(self): self.model.cuda()\n",
    "    def begin_batch(self): self.run.xb,self.run.yb = self.xb.cuda(),self.yb.cuda()"
   ]
  },
  {
   "cell_type": "code",
   "execution_count": 59,
   "metadata": {},
   "outputs": [],
   "source": [
    "cbfs.append(CudaCallback)"
   ]
  },
  {
   "cell_type": "code",
   "execution_count": 16,
   "metadata": {},
   "outputs": [],
   "source": [
    "model = get_cnn_model(data)"
   ]
  },
  {
   "cell_type": "code",
   "execution_count": 36,
   "metadata": {},
   "outputs": [],
   "source": [
    "opt = optim.SGD(model.parameters(), lr=0.4)\n",
    "learn = Learner(model, opt, loss_func, data, cb_funcs=cbfs)"
   ]
  },
  {
   "cell_type": "code",
   "execution_count": 18,
   "metadata": {},
   "outputs": [],
   "source": [
    "learn.add_callbacks(cb_funcs=CudaCallback)"
   ]
  },
  {
   "cell_type": "code",
   "execution_count": 37,
   "metadata": {
    "scrolled": false
   },
   "outputs": [
    {
     "data": {
      "text/plain": [
       "[<pylite.Callbacks.train.TrainEvalCallback at 0x26bc287cb38>,\n",
       " <pylite.Callbacks.core.Recorder at 0x26bc287c4e0>,\n",
       " <pylite.Callbacks.train.AvgStatsCallback at 0x26bc287c2b0>,\n",
       " <__main__.CudaCallback at 0x26bc287c160>]"
      ]
     },
     "execution_count": 37,
     "metadata": {},
     "output_type": "execute_result"
    }
   ],
   "source": [
    "learn.cbs"
   ]
  },
  {
   "cell_type": "code",
   "execution_count": 20,
   "metadata": {},
   "outputs": [
    {
     "name": "stdout",
     "output_type": "stream",
     "text": [
      "train: [2.2696215625, tensor(0.1606, device='cuda:0')]\n",
      "valid: [1.9612673828125, tensor(0.2449, device='cuda:0')]\n",
      "train: [0.8986909375, tensor(0.7043, device='cuda:0')]\n",
      "valid: [0.2736302734375, tensor(0.9160, device='cuda:0')]\n",
      "train: [0.2481141796875, tensor(0.9228, device='cuda:0')]\n",
      "valid: [0.168473779296875, tensor(0.9484, device='cuda:0')]\n",
      "Wall time: 8.07 s\n"
     ]
    }
   ],
   "source": [
    "%time learn.fit(3)"
   ]
  },
  {
   "cell_type": "code",
   "execution_count": 21,
   "metadata": {},
   "outputs": [],
   "source": [
    "class BatchTransformXCallback(Callback):\n",
    "    _order=2\n",
    "    def __init__(self, tfm): self.tfm = tfm\n",
    "    def begin_batch(self): self.run.xb = self.tfm(self.xb)"
   ]
  },
  {
   "cell_type": "markdown",
   "metadata": {},
   "source": [
    "# Test building a callback"
   ]
  },
  {
   "cell_type": "code",
   "execution_count": 76,
   "metadata": {},
   "outputs": [],
   "source": [
    "class ReportStepCallback(Callback):\n",
    "    _order=2\n",
    "    def begin_fit(self): print(\"Starting fit\")\n",
    "    def begin_validate(self): print(\"Starting validate\")\n",
    "    def begin_batch(self): \n",
    "        if not self.in_train: print(f\"Starting new batch. Iter no. {self.run.n_iter}\")\n",
    "    def begin_epoch(self): print(f\"Starting new epoch. Epoch no. {self.run.epoch}\")\n",
    "    def after_batch(self): \n",
    "        if not self.in_train: print(\"Reached here!\")\n",
    "\n",
    "class BatchSizePrinter(Callback):\n",
    "    _order=2\n",
    "    def begin_batch(self): \n",
    "        if not self.in_train: print(f\"Batch shape: {self.xb.shape}\")"
   ]
  },
  {
   "cell_type": "code",
   "execution_count": 77,
   "metadata": {},
   "outputs": [],
   "source": [
    "cbfs = [Recorder, partial(AvgStatsCallback,accuracy), CudaCallback]\n",
    "opt = optim.SGD(model.parameters(), lr=0.4)\n",
    "learn = Learner(model, opt, loss_func, data, cb_funcs=cbfs)\n",
    "learn.add_callbacks(cb_funcs=[ReportStepCallback, BatchSizePrinter])"
   ]
  },
  {
   "cell_type": "code",
   "execution_count": 78,
   "metadata": {},
   "outputs": [
    {
     "data": {
      "text/plain": [
       "[<pylite.Callbacks.train.TrainEvalCallback at 0x26bd5fbbd30>,\n",
       " <pylite.Callbacks.core.Recorder at 0x26bd5fbbf98>,\n",
       " <pylite.Callbacks.train.AvgStatsCallback at 0x26bd5fbbc18>,\n",
       " <__main__.CudaCallback at 0x26bd5fbba58>,\n",
       " <__main__.ReportStepCallback at 0x26bd5fbbfd0>,\n",
       " <__main__.BatchSizePrinter at 0x26bd5fbbeb8>]"
      ]
     },
     "execution_count": 78,
     "metadata": {},
     "output_type": "execute_result"
    }
   ],
   "source": [
    "learn.cbs"
   ]
  },
  {
   "cell_type": "code",
   "execution_count": 79,
   "metadata": {},
   "outputs": [
    {
     "name": "stdout",
     "output_type": "stream",
     "text": [
      "Starting fit\n",
      "Starting new epoch. Epoch no. 0\n",
      "Starting validate\n",
      "Starting new batch. Iter no. 98\n",
      "Batch shape: torch.Size([1024, 784])\n",
      "Reached here!\n",
      "Starting new batch. Iter no. 98\n",
      "Batch shape: torch.Size([1024, 784])\n",
      "Reached here!\n",
      "Starting new batch. Iter no. 98\n",
      "Batch shape: torch.Size([1024, 784])\n",
      "Reached here!\n",
      "Starting new batch. Iter no. 98\n",
      "Batch shape: torch.Size([1024, 784])\n",
      "Reached here!\n",
      "Starting new batch. Iter no. 98\n",
      "Batch shape: torch.Size([1024, 784])\n",
      "Reached here!\n",
      "Starting new batch. Iter no. 98\n",
      "Batch shape: torch.Size([1024, 784])\n",
      "Reached here!\n",
      "Starting new batch. Iter no. 98\n",
      "Batch shape: torch.Size([1024, 784])\n",
      "Reached here!\n",
      "Starting new batch. Iter no. 98\n",
      "Batch shape: torch.Size([1024, 784])\n",
      "Reached here!\n",
      "Starting new batch. Iter no. 98\n",
      "Batch shape: torch.Size([1024, 784])\n",
      "Reached here!\n",
      "Starting new batch. Iter no. 98\n",
      "Batch shape: torch.Size([784, 784])\n",
      "Reached here!\n",
      "train: [0.0314992333984375, tensor(0.9898, device='cuda:0')]\n",
      "valid: [0.07049829711914063, tensor(0.9809, device='cuda:0')]\n",
      "Starting new epoch. Epoch no. 1\n",
      "Starting validate\n",
      "Starting new batch. Iter no. 196\n",
      "Batch shape: torch.Size([1024, 784])\n",
      "Reached here!\n",
      "Starting new batch. Iter no. 196\n",
      "Batch shape: torch.Size([1024, 784])\n",
      "Reached here!\n",
      "Starting new batch. Iter no. 196\n",
      "Batch shape: torch.Size([1024, 784])\n",
      "Reached here!\n",
      "Starting new batch. Iter no. 196\n",
      "Batch shape: torch.Size([1024, 784])\n",
      "Reached here!\n",
      "Starting new batch. Iter no. 196\n",
      "Batch shape: torch.Size([1024, 784])\n",
      "Reached here!\n",
      "Starting new batch. Iter no. 196\n",
      "Batch shape: torch.Size([1024, 784])\n",
      "Reached here!\n",
      "Starting new batch. Iter no. 196\n",
      "Batch shape: torch.Size([1024, 784])\n",
      "Reached here!\n",
      "Starting new batch. Iter no. 196\n",
      "Batch shape: torch.Size([1024, 784])\n",
      "Reached here!\n",
      "Starting new batch. Iter no. 196\n",
      "Batch shape: torch.Size([1024, 784])\n",
      "Reached here!\n",
      "Starting new batch. Iter no. 196\n",
      "Batch shape: torch.Size([784, 784])\n",
      "Reached here!\n",
      "train: [0.02532452392578125, tensor(0.9919, device='cuda:0')]\n",
      "valid: [0.07105664672851562, tensor(0.9811, device='cuda:0')]\n",
      "Starting new epoch. Epoch no. 2\n",
      "Starting validate\n",
      "Starting new batch. Iter no. 294\n",
      "Batch shape: torch.Size([1024, 784])\n",
      "Reached here!\n",
      "Starting new batch. Iter no. 294\n",
      "Batch shape: torch.Size([1024, 784])\n",
      "Reached here!\n",
      "Starting new batch. Iter no. 294\n",
      "Batch shape: torch.Size([1024, 784])\n",
      "Reached here!\n",
      "Starting new batch. Iter no. 294\n",
      "Batch shape: torch.Size([1024, 784])\n",
      "Reached here!\n",
      "Starting new batch. Iter no. 294\n",
      "Batch shape: torch.Size([1024, 784])\n",
      "Reached here!\n",
      "Starting new batch. Iter no. 294\n",
      "Batch shape: torch.Size([1024, 784])\n",
      "Reached here!\n",
      "Starting new batch. Iter no. 294\n",
      "Batch shape: torch.Size([1024, 784])\n",
      "Reached here!\n",
      "Starting new batch. Iter no. 294\n",
      "Batch shape: torch.Size([1024, 784])\n",
      "Reached here!\n",
      "Starting new batch. Iter no. 294\n",
      "Batch shape: torch.Size([1024, 784])\n",
      "Reached here!\n",
      "Starting new batch. Iter no. 294\n",
      "Batch shape: torch.Size([784, 784])\n",
      "Reached here!\n",
      "train: [0.02271327392578125, tensor(0.9930, device='cuda:0')]\n",
      "valid: [0.066645166015625, tensor(0.9825, device='cuda:0')]\n",
      "Wall time: 4.67 s\n"
     ]
    }
   ],
   "source": [
    "%time learn.fit(3)"
   ]
  },
  {
   "cell_type": "code",
   "execution_count": 51,
   "metadata": {},
   "outputs": [
    {
     "data": {
      "text/plain": [
       "1024"
      ]
     },
     "execution_count": 51,
     "metadata": {},
     "output_type": "execute_result"
    }
   ],
   "source": [
    "data.valid_dl.batch_size"
   ]
  },
  {
   "cell_type": "code",
   "execution_count": 74,
   "metadata": {},
   "outputs": [
    {
     "data": {
      "text/plain": [
       "torch.Size([10000, 784])"
      ]
     },
     "execution_count": 74,
     "metadata": {},
     "output_type": "execute_result"
    }
   ],
   "source": [
    "data.valid_ds.x.shape"
   ]
  },
  {
   "cell_type": "code",
   "execution_count": 75,
   "metadata": {},
   "outputs": [
    {
     "data": {
      "text/plain": [
       "9216"
      ]
     },
     "execution_count": 75,
     "metadata": {},
     "output_type": "execute_result"
    }
   ],
   "source": [
    "9*1024"
   ]
  },
  {
   "cell_type": "code",
   "execution_count": null,
   "metadata": {},
   "outputs": [],
   "source": []
  }
 ],
 "metadata": {
  "kernelspec": {
   "display_name": "Python 3",
   "language": "python",
   "name": "python3"
  },
  "language_info": {
   "codemirror_mode": {
    "name": "ipython",
    "version": 3
   },
   "file_extension": ".py",
   "mimetype": "text/x-python",
   "name": "python",
   "nbconvert_exporter": "python",
   "pygments_lexer": "ipython3",
   "version": "3.7.3"
  }
 },
 "nbformat": 4,
 "nbformat_minor": 2
}
